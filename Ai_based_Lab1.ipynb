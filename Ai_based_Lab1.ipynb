{
  "nbformat": 4,
  "nbformat_minor": 0,
  "metadata": {
    "colab": {
      "provenance": [],
      "authorship_tag": "ABX9TyOXE74JzCCACNFJeZiOYsYI",
      "include_colab_link": true
    },
    "kernelspec": {
      "name": "python3",
      "display_name": "Python 3"
    },
    "language_info": {
      "name": "python"
    }
  },
  "cells": [
    {
      "cell_type": "markdown",
      "metadata": {
        "id": "view-in-github",
        "colab_type": "text"
      },
      "source": [
        "<a href=\"https://colab.research.google.com/github/AmRo1011/AIE314-Tutorial1/blob/main/Ai_based_Lab1.ipynb\" target=\"_parent\"><img src=\"https://colab.research.google.com/assets/colab-badge.svg\" alt=\"Open In Colab\"/></a>"
      ]
    },
    {
      "cell_type": "code",
      "source": [
        "%%capture\n",
        "!pip install python-docx python-pptx PyMuPDF pandas beautifulsoup4 transformers"
      ],
      "metadata": {
        "id": "XxbrC-AR66rz"
      },
      "execution_count": null,
      "outputs": []
    },
    {
      "cell_type": "code",
      "source": [
        "from docx import Document\n",
        "from pptx import Presentation\n",
        "import pandas as pd\n",
        "import fitz  # PyMuPDF\n",
        "from bs4 import BeautifulSoup\n",
        "import os\n",
        "import re\n",
        "import json\n",
        "from datetime import datetime\n",
        "from transformers import pipeline"
      ],
      "metadata": {
        "id": "S3012GOON-mx"
      },
      "execution_count": null,
      "outputs": []
    },
    {
      "cell_type": "code",
      "execution_count": null,
      "metadata": {
        "id": "8shS8cs06Ai7"
      },
      "outputs": [],
      "source": [
        "def extract_text_from_docx(file_path):\n",
        "    # Load the document\n",
        "    doc = Document(file_path)\n",
        "\n",
        "    # Extract all text from the document\n",
        "    full_text = [paragraph.text for paragraph in doc.paragraphs]\n",
        "\n",
        "    # Join the list into a single string\n",
        "    return '\\n'.join(full_text)"
      ]
    },
    {
      "cell_type": "markdown",
      "source": [],
      "metadata": {
        "id": "BgteRpYY9I3G"
      }
    },
    {
      "cell_type": "code",
      "source": [
        "def extract_text_from_pptx(file_path):\n",
        "    prs = Presentation(file_path)\n",
        "    text_runs = []\n",
        "\n",
        "    for slide in prs.slides:\n",
        "        for shape in slide.shapes:\n",
        "            if hasattr(shape, \"text\"):\n",
        "                text_runs.append(shape.text)\n",
        "\n",
        "    return '\\n'.join(text_runs)\n",
        "\n",
        "def find_pattern_in_text(text, pattern):\n",
        "    regex = re.compile(pattern)\n",
        "    return regex.findall(text)"
      ],
      "metadata": {
        "id": "24HbIiAG_3tH"
      },
      "execution_count": null,
      "outputs": []
    },
    {
      "cell_type": "code",
      "source": [
        "def extract_text_from_pdf(pdf_path):\n",
        "    document = fitz.open(pdf_path)\n",
        "    text = ''\n",
        "    for page_num in range(len(document)):\n",
        "        page = document.load_page(page_num)\n",
        "        text += page.get_text()\n",
        "\n",
        "    return text"
      ],
      "metadata": {
        "id": "_8AnzbwuBoFH"
      },
      "execution_count": null,
      "outputs": []
    },
    {
      "cell_type": "code",
      "source": [
        "def extract_text_from_excel(excel_path):\n",
        "    excel_file = pd.ExcelFile(excel_path)\n",
        "    text = []\n",
        "    for sheet_name in excel_file.sheet_names:\n",
        "        df = pd.read_excel(excel_file, sheet_name=sheet_name)\n",
        "        text.append(df.to_string(index=False))\n",
        "\n",
        "    return \"\\n\".join(text)\n",
        "\n",
        "def extract_text_from_html_file(file_path):\n",
        "    with open(file_path, 'r', encoding='utf-8') as file:\n",
        "        html_content = file.read()\n",
        "\n",
        "    soup = BeautifulSoup(html_content, 'html.parser')\n",
        "    text = soup.get_text()\n",
        "\n",
        "    return text"
      ],
      "metadata": {
        "id": "8X6PrysECahW"
      },
      "execution_count": null,
      "outputs": []
    },
    {
      "cell_type": "code",
      "source": [
        "def get_file_type(file_path):\n",
        "    _, file_extension = os.path.splitext(file_path)\n",
        "    file_extension = file_extension.lower()\n",
        "\n",
        "    if file_extension == '.docx':\n",
        "        return 'docx'\n",
        "    elif file_extension == '.pptx':\n",
        "        return 'pptx'\n",
        "    elif file_extension == '.pdf':\n",
        "        return 'pdf'\n",
        "    elif file_extension == '.xlsx':\n",
        "        return 'xlsx'\n",
        "    elif file_extension == '.html':\n",
        "        return 'html'\n",
        "    else:\n",
        "        return None\n",
        "\n",
        "def extract_text_from_file(file_path):\n",
        "    file_type = get_file_type(file_path)\n",
        "\n",
        "    if file_type == 'docx':\n",
        "        return extract_text_from_docx(file_path)\n",
        "    elif file_type == 'pptx':\n",
        "        return extract_text_from_pptx(file_path)\n",
        "    elif file_type == 'pdf':\n",
        "        return extract_text_from_pdf(file_path)\n",
        "    elif file_type == 'xlsx':\n",
        "        return extract_text_from_excel(file_path)\n",
        "    elif file_type == 'html':\n",
        "        return extract_text_from_html_file(file_path)\n",
        "    else:\n",
        "        return \"Unsupported file type\"\n",
        "\n",
        "def convert_to_json(original_file_path, extracted_text, output_path=None):\n",
        "    file_type = get_file_type(original_file_path)\n",
        "\n",
        "    if output_path is None:\n",
        "        file_name_without_extension, _ = os.path.splitext(original_file_path)\n",
        "        output_path = f\"{file_name_without_extension}.json\"\n",
        "\n",
        "    extraction_date = datetime.now().isoformat()\n",
        "\n",
        "    json_data = {\n",
        "        'file_type': file_type,\n",
        "        'file_path': original_file_path,\n",
        "        'extracted_text': extracted_text,\n",
        "        'extraction_date': extraction_date\n",
        "    }\n",
        "\n",
        "    with open(output_path, 'w', encoding='utf-8') as json_file:\n",
        "        json.dump(json_data, json_file, ensure_ascii=False, indent=4)\n",
        "\n",
        "    return output_path"
      ],
      "metadata": {
        "id": "ead4JKpiDnEG"
      },
      "execution_count": null,
      "outputs": []
    },
    {
      "cell_type": "code",
      "source": [
        "qa_pipeline = pipeline(\"question-answering\")\n",
        "\n",
        "def answer_question(question, context):\n",
        "    result = qa_pipeline(question=question, context=context)\n",
        "    return result['answer']"
      ],
      "metadata": {
        "colab": {
          "base_uri": "https://localhost:8080/"
        },
        "id": "nk9O2t4WEVWW",
        "outputId": "a77223c1-3539-4a96-ccfa-7015b65d547f"
      },
      "execution_count": null,
      "outputs": [
        {
          "output_type": "stream",
          "name": "stderr",
          "text": [
            "No model was supplied, defaulted to distilbert/distilbert-base-cased-distilled-squad and revision 564e9b5 (https://huggingface.co/distilbert/distilbert-base-cased-distilled-squad).\n",
            "Using a pipeline without specifying a model name and revision in production is not recommended.\n",
            "Device set to use cpu\n"
          ]
        }
      ]
    },
    {
      "cell_type": "code",
      "source": [],
      "metadata": {
        "id": "7axjmQp0IDOL"
      },
      "execution_count": null,
      "outputs": []
    },
    {
      "cell_type": "code",
      "source": [
        "file_path = \"/content/The Reign of King John.pdf\"\n",
        "extracted_text = extract_text_from_file(file_path)\n",
        "json_output_path = convert_to_json(file_path, extracted_text)\n",
        "print(f\"Extracted Text:\\n{extracted_text}\")\n",
        "print(f\"JSON file saved at: {json_output_path}\")\n",
        "\n",
        "question = \"What were the reasons for King John's excommunication?\"\n",
        "answer = answer_question(question, extracted_text)\n",
        "print(f\"Answer: {answer}\")"
      ],
      "metadata": {
        "id": "lqIhgzTMKo6V",
        "colab": {
          "base_uri": "https://localhost:8080/"
        },
        "outputId": "e334ffcb-941f-4133-a282-1ea0b5d64e97"
      },
      "execution_count": null,
      "outputs": [
        {
          "output_type": "stream",
          "name": "stdout",
          "text": [
            "Extracted Text:\n",
            "The Reign of King John (1199–1216) \n",
            "Early Years and Ascent to the Throne \n",
            "●​\n",
            "Born in 1166 to King Henry II and Eleanor of Aquitaine \n",
            "●​\n",
            "Known as \"Lackland\" for his lack of inherited lands \n",
            "●​\n",
            "Secured the throne after the death of his brother Richard I in 1199 \n",
            "Key Titles and Positions \n",
            "1.​ King of England (1199–1216): Consolidated royal authority but faced baronial opposition \n",
            "2.​ Duke of Normandy (1199–1204): Lost normandy to Philip II of France \n",
            "3.​ Lord of Ireland (1177–1216): Oversaw English interests in Ireland \n",
            "4.​ Count of Anjou (1199–1204): Part of the Angevin Empire \n",
            "5.​ Duke of Aquitaine (1199–1204): Held through his mother Eleanor \n",
            "Notable Achievements and Events \n",
            "●​\n",
            "Administration: Strengthened bureaucracy and taxation systems \n",
            "●​\n",
            "Magna Carta: Forced to sign the charter in 1215, limiting royal power \n",
            "●​\n",
            "Legal Reforms: Established courts and introduced trial by jury \n",
            "●​\n",
            "Military Campaigns: Failed to retake Normandy but succeeded in Ireland \n",
            "●​\n",
            "Church Relations: Excommunicated by Pope Innocent III in 1209 \n",
            "Financial and Economic Policies \n",
            "●​\n",
            "Taxation: Increased scutage and introduced new taxes \n",
            "●​\n",
            "Currency Reform: Minted silver coins to stabilize the economy \n",
            "●​\n",
            "Trade: Promoted English trade through treaties and alliances \n",
            "Personal Life and Family \n",
            "●​\n",
            "Married Isabel of Gloucester (annulled) and later Isabella of Angoulême \n",
            "●​\n",
            "Had multiple illegitimate children and a complex family dynamic \n",
            "Controversies and Challenges \n",
            "●​\n",
            "Baronial Revolt: Faced repeated uprisings from discontented nobles \n",
            "●​\n",
            "Loss of Territory: Failed military campaigns led to territorial losses \n",
            "●​\n",
            "Papal Conflict: Five-year excommunication and eventual submission to the Pope \n",
            "Death and Legacy \n",
            "●​\n",
            "Died in 1216, succeeded by his son Henry III \n",
            "●​\n",
            "Often portrayed negatively in history but left a lasting legacy on English law and governance \n",
            " \n",
            "Citations and References \n",
            "●​\n",
            "\"King John: History’s Villain?\" by Stephen Church \n",
            "●​\n",
            "Magna Carta: British Library Archives \n",
            "●​\n",
            "Oxford Dictionary of National Biography entry on John \n",
            " \n",
            " \n",
            "\n",
            "JSON file saved at: /content/The Reign of King John.json\n",
            "Answer: lack of inherited lands\n"
          ]
        }
      ]
    }
  ]
}